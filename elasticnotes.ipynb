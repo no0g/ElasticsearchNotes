{
 "cells": [
  {
   "cell_type": "code",
   "execution_count": 11,
   "metadata": {
    "scrolled": true
   },
   "outputs": [],
   "source": [
    "# Import elastic search (Install with `pip3 installl elasticsearch`)\n",
    "from elasticsearch import Elasticsearch\n",
    "# Define the running elasticsearch server (by default localhost:9200)\n",
    "client = Elasticsearch('localhost')"
   ]
  },
  {
   "cell_type": "code",
   "execution_count": null,
   "metadata": {},
   "outputs": [],
   "source": [
    "# This notebook covers simple use of elasticsearch and data mitigation from mysql to elasticsearch"
   ]
  },
  {
   "cell_type": "code",
   "execution_count": 13,
   "metadata": {},
   "outputs": [
    {
     "data": {
      "text/plain": [
       "{'acknowledged': True, 'shards_acknowledged': True, 'index': 'mdas'}"
      ]
     },
     "execution_count": 13,
     "metadata": {},
     "output_type": "execute_result"
    }
   ],
   "source": [
    "# Define mappings or 'schema' for index 'mdas'\n",
    "mappings = {\n",
    "    'mappings':{\n",
    "            'properties':{\n",
    "                #the number\n",
    "                'number':{'type':'keyword' },\n",
    "                #name of user\n",
    "                'name':{'type':'keyword'},\n",
    "                #trust points\n",
    "                'tPoint' : {'type':'float'}\n",
    "            }\n",
    "        }\n",
    "}\n",
    "client.indices.create(index='mdas',body=mappings)"
   ]
  },
  {
   "cell_type": "code",
   "execution_count": 18,
   "metadata": {
    "scrolled": true
   },
   "outputs": [],
   "source": [
    "#inserting data to mdas\n",
    "docs = [\n",
    "    {\n",
    "        'number': '+60129304840',\n",
    "        'name': 'Reza',\n",
    "        'tPoint': 7.09\n",
    "    }\n",
    "]\n",
    "\n",
    "for doc in docs:\n",
    "    client.create(index='mdas',id=0,body=doc)\n",
    "    "
   ]
  },
  {
   "cell_type": "code",
   "execution_count": 24,
   "metadata": {
    "scrolled": true
   },
   "outputs": [
    {
     "data": {
      "text/plain": [
       "{'took': 3,\n",
       " 'timed_out': False,\n",
       " '_shards': {'total': 1, 'successful': 1, 'skipped': 0, 'failed': 0},\n",
       " 'hits': {'total': {'value': 1, 'relation': 'eq'},\n",
       "  'max_score': 1.0,\n",
       "  'hits': [{'_index': 'mdas',\n",
       "    '_type': '_doc',\n",
       "    '_id': '0',\n",
       "    '_score': 1.0,\n",
       "    '_source': {'number': '+60129304840', 'name': 'Reza', 'tPoint': 7.09}}]}}"
      ]
     },
     "execution_count": 24,
     "metadata": {},
     "output_type": "execute_result"
    }
   ],
   "source": [
    "# Get all data from index 'mdas'\n",
    "query = {\n",
    "    'query':{\n",
    "        'match_all':{}\n",
    "    }\n",
    "}\n",
    "client.search(index='mdas',body=query)"
   ]
  },
  {
   "cell_type": "code",
   "execution_count": 29,
   "metadata": {},
   "outputs": [
    {
     "data": {
      "text/plain": [
       "{'took': 8,\n",
       " 'timed_out': False,\n",
       " '_shards': {'total': 1, 'successful': 1, 'skipped': 0, 'failed': 0},\n",
       " 'hits': {'total': {'value': 1, 'relation': 'eq'},\n",
       "  'max_score': 0.2876821,\n",
       "  'hits': [{'_index': 'mdas',\n",
       "    '_type': '_doc',\n",
       "    '_id': '0',\n",
       "    '_score': 0.2876821,\n",
       "    '_source': {'number': '+60129304840', 'name': 'Reza', 'tPoint': 7.09}}]}}"
      ]
     },
     "execution_count": 29,
     "metadata": {},
     "output_type": "execute_result"
    }
   ],
   "source": [
    "# Get data related to +60129304840\n",
    "query = {\n",
    "    'query':{\n",
    "        'bool':{\n",
    "            'must':{\n",
    "                'term':{\n",
    "                    'number':'+60129304840'\n",
    "                }\n",
    "            }\n",
    "        }\n",
    "    }\n",
    "}\n",
    "client.search(index='mdas',body=query)"
   ]
  },
  {
   "cell_type": "code",
   "execution_count": 75,
   "metadata": {},
   "outputs": [
    {
     "data": {
      "text/plain": [
       "{'took': 20,\n",
       " 'timed_out': False,\n",
       " 'total': 6,\n",
       " 'deleted': 6,\n",
       " 'batches': 1,\n",
       " 'version_conflicts': 0,\n",
       " 'noops': 0,\n",
       " 'retries': {'bulk': 0, 'search': 0},\n",
       " 'throttled_millis': 0,\n",
       " 'requests_per_second': -1.0,\n",
       " 'throttled_until_millis': 0,\n",
       " 'failures': []}"
      ]
     },
     "execution_count": 75,
     "metadata": {},
     "output_type": "execute_result"
    }
   ],
   "source": [
    "# Delete data for Reza\n",
    "query = {\n",
    "    'query' :{\n",
    "        'bool':{\n",
    "            'must':{\n",
    "                'term':{\n",
    "                    'name':'Reza'\n",
    "                }\n",
    "            }\n",
    "        }\n",
    "    }\n",
    "}\n",
    "client.delete_by_query(index='mdas',body=query)"
   ]
  },
  {
   "cell_type": "code",
   "execution_count": 31,
   "metadata": {},
   "outputs": [
    {
     "data": {
      "text/plain": [
       "{'took': 3,\n",
       " 'timed_out': False,\n",
       " '_shards': {'total': 1, 'successful': 1, 'skipped': 0, 'failed': 0},\n",
       " 'hits': {'total': {'value': 0, 'relation': 'eq'},\n",
       "  'max_score': None,\n",
       "  'hits': []}}"
      ]
     },
     "execution_count": 31,
     "metadata": {},
     "output_type": "execute_result"
    }
   ],
   "source": [
    "# Get data related to +60129304840\n",
    "query = {\n",
    "    'query':{\n",
    "        'bool':{\n",
    "            'must':{\n",
    "                'term':{\n",
    "                    'number':'+60129304840'\n",
    "                }\n",
    "            }\n",
    "        }\n",
    "    }\n",
    "}\n",
    "client.search(index='mdas',body=query)"
   ]
  },
  {
   "cell_type": "code",
   "execution_count": 66,
   "metadata": {},
   "outputs": [],
   "source": [
    "# import data from mysql to elasticsearch\n",
    "# retrieve data from mysql \n",
    "import pymysql\n",
    "import pymysql.cursors\n",
    "names=[]\n",
    "numbers=[]\n",
    "con = pymysql.connect('localhost', 'root', 'password', 'telco1', charset='utf8mb4', cursorclass=pymysql.cursors.DictCursor)\n",
    "cur = con.cursor()\n",
    "cur.execute(\"select * from individual\")\n",
    "rows = cur.fetchall()\n",
    "for row in rows:\n",
    "    names.append(row[\"name\"])\n",
    "    numbers.append(row[\"number\"])\n"
   ]
  },
  {
   "cell_type": "code",
   "execution_count": 67,
   "metadata": {},
   "outputs": [
    {
     "data": {
      "text/plain": [
       "['Ricardo', 'Richard', 'Anna', 'Kath', 'Leroy', 'Fluffy']"
      ]
     },
     "execution_count": 67,
     "metadata": {},
     "output_type": "execute_result"
    }
   ],
   "source": [
    "names"
   ]
  },
  {
   "cell_type": "code",
   "execution_count": 68,
   "metadata": {},
   "outputs": [
    {
     "data": {
      "text/plain": [
       "['+6020494091',\n",
       " '+60129393830',\n",
       " '+601293903021',\n",
       " '+6037948498',\n",
       " '+6037948498',\n",
       " '+60129304840']"
      ]
     },
     "execution_count": 68,
     "metadata": {},
     "output_type": "execute_result"
    }
   ],
   "source": [
    "numbers"
   ]
  },
  {
   "cell_type": "code",
   "execution_count": 71,
   "metadata": {},
   "outputs": [],
   "source": [
    "# generate random float for trust point\n",
    "import random\n",
    "def Tgen():\n",
    "    x = random.uniform(0,10)\n",
    "    return x\n"
   ]
  },
  {
   "cell_type": "code",
   "execution_count": 84,
   "metadata": {
    "scrolled": true
   },
   "outputs": [
    {
     "name": "stdout",
     "output_type": "stream",
     "text": [
      "Adding +6020494091, Ricardo, 4.760578585241354\n",
      "Adding +60129393830, Richard, 7.097847218888003\n",
      "Adding +601293903021, Anna, 9.047318488415726\n",
      "Adding +6037948498, Kath, 1.4790370147982501\n",
      "Adding +6037948498, Leroy, 2.4407688070644107\n",
      "Adding +60129304840, Fluffy, 3.475786851380125\n"
     ]
    }
   ],
   "source": [
    "# insert data to elasticsearch \n",
    "i = 0 \n",
    "for name in names:\n",
    "    tpoint=Tgen()\n",
    "    print(\"Adding {}, {}, {}\".format(numbers[i],name,tpoint))\n",
    "    docs = {'number': '{}'.format(numbers[i]),'name': '{}'.format(name),'tPoint': '{}'.format(tpoint)}\n",
    "    client.create(index='mdas',id=i,body=docs)\n",
    "    i=i+1"
   ]
  },
  {
   "cell_type": "code",
   "execution_count": 85,
   "metadata": {},
   "outputs": [
    {
     "data": {
      "text/plain": [
       "{'took': 362,\n",
       " 'timed_out': False,\n",
       " '_shards': {'total': 1, 'successful': 1, 'skipped': 0, 'failed': 0},\n",
       " 'hits': {'total': {'value': 6, 'relation': 'eq'},\n",
       "  'max_score': 1.0,\n",
       "  'hits': [{'_index': 'mdas',\n",
       "    '_type': '_doc',\n",
       "    '_id': '0',\n",
       "    '_score': 1.0,\n",
       "    '_source': {'number': '+6020494091',\n",
       "     'name': 'Ricardo',\n",
       "     'tPoint': '4.760578585241354'}},\n",
       "   {'_index': 'mdas',\n",
       "    '_type': '_doc',\n",
       "    '_id': '1',\n",
       "    '_score': 1.0,\n",
       "    '_source': {'number': '+60129393830',\n",
       "     'name': 'Richard',\n",
       "     'tPoint': '7.097847218888003'}},\n",
       "   {'_index': 'mdas',\n",
       "    '_type': '_doc',\n",
       "    '_id': '2',\n",
       "    '_score': 1.0,\n",
       "    '_source': {'number': '+601293903021',\n",
       "     'name': 'Anna',\n",
       "     'tPoint': '9.047318488415726'}},\n",
       "   {'_index': 'mdas',\n",
       "    '_type': '_doc',\n",
       "    '_id': '3',\n",
       "    '_score': 1.0,\n",
       "    '_source': {'number': '+6037948498',\n",
       "     'name': 'Kath',\n",
       "     'tPoint': '1.4790370147982501'}},\n",
       "   {'_index': 'mdas',\n",
       "    '_type': '_doc',\n",
       "    '_id': '4',\n",
       "    '_score': 1.0,\n",
       "    '_source': {'number': '+6037948498',\n",
       "     'name': 'Leroy',\n",
       "     'tPoint': '2.4407688070644107'}},\n",
       "   {'_index': 'mdas',\n",
       "    '_type': '_doc',\n",
       "    '_id': '5',\n",
       "    '_score': 1.0,\n",
       "    '_source': {'number': '+60129304840',\n",
       "     'name': 'Fluffy',\n",
       "     'tPoint': '3.475786851380125'}}]}}"
      ]
     },
     "execution_count": 85,
     "metadata": {},
     "output_type": "execute_result"
    }
   ],
   "source": [
    "# Get all data from index 'mdas'\n",
    "query = {\n",
    "    'query':{\n",
    "        'match_all':{}\n",
    "    }\n",
    "}\n",
    "client.search(index='mdas',body=query)"
   ]
  },
  {
   "cell_type": "code",
   "execution_count": null,
   "metadata": {},
   "outputs": [],
   "source": []
  }
 ],
 "metadata": {
  "kernelspec": {
   "display_name": "Python 3",
   "language": "python",
   "name": "python3"
  },
  "language_info": {
   "codemirror_mode": {
    "name": "ipython",
    "version": 3
   },
   "file_extension": ".py",
   "mimetype": "text/x-python",
   "name": "python",
   "nbconvert_exporter": "python",
   "pygments_lexer": "ipython3",
   "version": "3.8.2"
  }
 },
 "nbformat": 4,
 "nbformat_minor": 4
}

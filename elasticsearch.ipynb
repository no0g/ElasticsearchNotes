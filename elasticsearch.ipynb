{
 "cells": [
  {
   "cell_type": "code",
   "execution_count": 18,
   "metadata": {
    "scrolled": true
   },
   "outputs": [],
   "source": [
    "# Import elastic search (Install with `pip3 installl elasticsearch`)\n",
    "from elasticsearch import Elasticsearch\n",
    "# Define the running elasticsearch server (by default localhost:9200)\n",
    "client = Elasticsearch('localhost')"
   ]
  },
  {
   "cell_type": "code",
   "execution_count": 20,
   "metadata": {},
   "outputs": [
    {
     "data": {
      "text/plain": [
       "{'acknowledged': True, 'shards_acknowledged': True, 'index': 'mdas'}"
      ]
     },
     "execution_count": 20,
     "metadata": {},
     "output_type": "execute_result"
    }
   ],
   "source": [
    "# Define mappings or 'schema' for index 'mdas'\n",
    "mappings = {\n",
    "    'mappings':{\n",
    "            'properties':{\n",
    "                #the number\n",
    "                'number':{'type':'keyword' },\n",
    "                #name of user\n",
    "                'name':{'type':'keyword'},\n",
    "                #trust points\n",
    "                'tPoint' : {'type':'float'}\n",
    "            }\n",
    "        }\n",
    "}\n",
    "client.indices.create(index='mdas',body=mappings)"
   ]
  },
  {
   "cell_type": "code",
   "execution_count": 22,
   "metadata": {},
   "outputs": [],
   "source": [
    "#inserting data to mdas\n",
    "docs = [\n",
    "    {\n",
    "        'number': '+60129304840',\n",
    "        'name': 'Reza',\n",
    "        'tPoint': 7.09\n",
    "    },\n",
    "    {\n",
    "        'number': '+60129304840',\n",
    "        'name' : 'Michael',\n",
    "        'tPoint': 3.5\n",
    "    }\n",
    "]\n",
    "i=0\n",
    "for doc in docs:\n",
    "    client.create(index='mdas',id=i,body=doc)\n",
    "    i=i+1"
   ]
  },
  {
   "cell_type": "code",
   "execution_count": 24,
   "metadata": {},
   "outputs": [
    {
     "data": {
      "text/plain": [
       "{'took': 3,\n",
       " 'timed_out': False,\n",
       " '_shards': {'total': 1, 'successful': 1, 'skipped': 0, 'failed': 0},\n",
       " 'hits': {'total': {'value': 2, 'relation': 'eq'},\n",
       "  'max_score': 1.0,\n",
       "  'hits': [{'_index': 'mdas',\n",
       "    '_type': '_doc',\n",
       "    '_id': '0',\n",
       "    '_score': 1.0,\n",
       "    '_source': {'number': '+60129304840', 'name': 'Reza', 'tPoint': 7.09}},\n",
       "   {'_index': 'mdas',\n",
       "    '_type': '_doc',\n",
       "    '_id': '1',\n",
       "    '_score': 1.0,\n",
       "    '_source': {'number': '+60129304840', 'name': 'Michael', 'tPoint': 3.5}}]}}"
      ]
     },
     "execution_count": 24,
     "metadata": {},
     "output_type": "execute_result"
    }
   ],
   "source": [
    "# Get all data from index 'mdas'\n",
    "query = {\n",
    "    'query':{\n",
    "        'match_all':{}\n",
    "    }\n",
    "}\n",
    "client.search(index='mdas',body=query)"
   ]
  },
  {
   "cell_type": "code",
   "execution_count": null,
   "metadata": {},
   "outputs": [],
   "source": []
  }
 ],
 "metadata": {
  "kernelspec": {
   "display_name": "Python 3",
   "language": "python",
   "name": "python3"
  },
  "language_info": {
   "codemirror_mode": {
    "name": "ipython",
    "version": 3
   },
   "file_extension": ".py",
   "mimetype": "text/x-python",
   "name": "python",
   "nbconvert_exporter": "python",
   "pygments_lexer": "ipython3",
   "version": "3.8.2"
  }
 },
 "nbformat": 4,
 "nbformat_minor": 4
}
